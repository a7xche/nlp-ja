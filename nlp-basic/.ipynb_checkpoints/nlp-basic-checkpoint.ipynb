{
 "cells": [
  {
   "cell_type": "markdown",
   "metadata": {},
   "source": [
    "## 自然言語処理 入門"
   ]
  },
  {
   "cell_type": "markdown",
   "metadata": {},
   "source": [
    "### 事前準備"
   ]
  },
  {
   "cell_type": "markdown",
   "metadata": {},
   "source": [
    "コマンドプロンプトを開き、以下のコマンドでMeCabをインストール（for Windows）\n",
    "\n",
    "pip install mecab\n",
    "\n",
    "※ MeCabについて: https://taku910.github.io/mecab/\n",
    "\n",
    "※インストール方法 参考サイト：https://qiita.com/yukinoi/items/990b6933d9f21ba0fb43"
   ]
  },
  {
   "cell_type": "markdown",
   "metadata": {},
   "source": [
    "### ライブラリのインポート"
   ]
  },
  {
   "cell_type": "code",
   "execution_count": null,
   "metadata": {},
   "outputs": [],
   "source": [
    "# 日本語の文章を形態素解析できるライブラリをインポート\n",
    "import MeCab"
   ]
  },
  {
   "cell_type": "markdown",
   "metadata": {},
   "source": [
    "### 分かち書き"
   ]
  },
  {
   "cell_type": "code",
   "execution_count": null,
   "metadata": {},
   "outputs": [],
   "source": [
    "# 引数の -Owakati は、分かち書きをするための引数\n",
    "mecab = MeCab.Tagger(\"-Owakati\")\n",
    "\n",
    "# 分かち書きしたい文章を、引数として入力\n",
    "text = mecab.parse(\"私はデータサイエンティストです\")\n",
    "\n",
    "# 出力\n",
    "print(text)"
   ]
  },
  {
   "cell_type": "markdown",
   "metadata": {},
   "source": [
    "### 形態素解析"
   ]
  },
  {
   "cell_type": "code",
   "execution_count": null,
   "metadata": {},
   "outputs": [],
   "source": [
    "# 引数の -Ochasen は、形態素解析をするための引数\n",
    "mecab = MeCab.Tagger(\"-Ochasen\")\n",
    "\n",
    "# 分かち書きしたい文章を、引数として入力\n",
    "text = mecab.parse(\"私はデータサイエンティストです\")\n",
    "\n",
    "# 出力\n",
    "print(text)"
   ]
  },
  {
   "cell_type": "code",
   "execution_count": null,
   "metadata": {},
   "outputs": [],
   "source": [
    "# 引数を指定しなくても形態素解析ができる\n",
    "mecab = MeCab.Tagger()\n",
    "\n",
    "# 分かち書きしたい文章を、引数として入力\n",
    "text = mecab.parse(\"私はデータサイエンティストです\")\n",
    "\n",
    "# 出力\n",
    "print(text)"
   ]
  },
  {
   "cell_type": "markdown",
   "metadata": {},
   "source": [
    "### 単語の出現回数を調べる"
   ]
  },
  {
   "cell_type": "code",
   "execution_count": null,
   "metadata": {},
   "outputs": [],
   "source": [
    "import MeCab\n",
    "\n",
    "# テキストファイルを開く\n",
    "# 中身は、夏目漱石の\"吾輩は猫である\"の一節（ちなみに、著作権が切れているので自由に使える）\n",
    "# 日本語はエンコーディングの指定をしないと読み込めない\n",
    "with open(\"neko-1.txt\", encoding=\"utf_8\") as f:\n",
    "    # ファイルの読込み\n",
    "    data = f.read()  "
   ]
  },
  {
   "cell_type": "code",
   "execution_count": null,
   "metadata": {},
   "outputs": [],
   "source": [
    "# 読み込んだデータの確認\n",
    "data"
   ]
  },
  {
   "cell_type": "code",
   "execution_count": null,
   "metadata": {},
   "outputs": [],
   "source": [
    "# 分かち書きした文章を用意\n",
    "mecab = MeCab.Tagger(\"-Owakati\")\n",
    "text = mecab.parse(data)"
   ]
  },
  {
   "cell_type": "code",
   "execution_count": null,
   "metadata": {},
   "outputs": [],
   "source": [
    "# 格納するために空欄の辞書を作成\n",
    "words = {}\n",
    "\n",
    "# split()で分かち書きした文章から単語を取り出す\n",
    "for word in text.split():\n",
    "    # 単語をキーとして値に1を足していく。\n",
    "    # 辞書に単語がない、すなわち初めて辞書に登録するときは0+1になる。\n",
    "    words[word] = words.get(word, 0) + 1"
   ]
  },
  {
   "cell_type": "code",
   "execution_count": null,
   "metadata": {},
   "outputs": [],
   "source": [
    "# リストに取り出して単語の出現回数でソート\n",
    "# vは出現回数、kは単語を指す\n",
    "d = [(v, k) for k, v in words.items()]\n",
    "\n",
    "# 出現回数が少ないものから多いものに並び替え\n",
    "d.sort()\n",
    "\n",
    "# 出現回数が多い順に並べる\n",
    "d.reverse()"
   ]
  },
  {
   "cell_type": "code",
   "execution_count": null,
   "metadata": {},
   "outputs": [],
   "source": [
    "# 単語出現回数が多い上位30個を出力\n",
    "for count, word in d[:30]:\n",
    "    print(count, word)"
   ]
  },
  {
   "cell_type": "markdown",
   "metadata": {},
   "source": [
    "### 出現した単語の数をベクトル化&単語の出現回数をカウント"
   ]
  },
  {
   "cell_type": "code",
   "execution_count": null,
   "metadata": {},
   "outputs": [],
   "source": [
    "import MeCab\n",
    "import pandas as pd\n",
    "\n",
    "# データの読込み\n",
    "with open(\"neko-1.txt\", encoding=\"utf_8\") as f:\n",
    "    data = f.read()\n",
    "\n",
    "# 読み込んだデータの分かち書き\n",
    "mecab = MeCab.Tagger(\"-Owakati\")\n",
    "text = mecab.parse(data)"
   ]
  },
  {
   "cell_type": "code",
   "execution_count": null,
   "metadata": {},
   "outputs": [],
   "source": [
    "import numpy as np\n",
    "# 単語をベクトル化するためのライブラリ\n",
    "from sklearn.feature_extraction.text import CountVectorizer\n",
    "\n",
    "# 関数を変数として定義する\n",
    "count = CountVectorizer()\n",
    "# array型に変換\n",
    "docs = np.array([text])\n",
    "# ベクトル化\n",
    "vec = count.fit_transform(docs)"
   ]
  },
  {
   "cell_type": "code",
   "execution_count": null,
   "metadata": {},
   "outputs": [],
   "source": [
    "# 単語の出現回数をカウント\n",
    "pd.DataFrame(vec.toarray(), columns=count.get_feature_names())"
   ]
  },
  {
   "cell_type": "markdown",
   "metadata": {},
   "source": [
    "### TF-IDF"
   ]
  },
  {
   "cell_type": "code",
   "execution_count": null,
   "metadata": {},
   "outputs": [],
   "source": [
    "import MeCab\n",
    "from sklearn.feature_extraction.text import TfidfVectorizer\n",
    "\n",
    "# データの読込み\n",
    "with open(\"neko-1.txt\", encoding=\"utf_8\") as f:\n",
    "    data = f.read()\n",
    "\n",
    "# 読み込んだデータの分かち書き\n",
    "mecab = MeCab.Tagger(\"-Owakati\")\n",
    "text = mecab.parse(data)\n",
    "\n",
    "# 関数を変数として定義する\n",
    "vec_tfidf = TfidfVectorizer()\n",
    "# ベクトル化する文字列\n",
    "doc = np.array([text])\n",
    "# ベクトル化\n",
    "vec = vec_tfidf.fit_transform(doc)"
   ]
  },
  {
   "cell_type": "code",
   "execution_count": null,
   "metadata": {},
   "outputs": [],
   "source": [
    "# 単語数\n",
    "print('Vocabulary size: {}'.format(len(vec_tfidf.vocabulary_)))"
   ]
  },
  {
   "cell_type": "code",
   "execution_count": null,
   "metadata": {},
   "outputs": [],
   "source": [
    "import pandas as pd\n",
    "\n",
    "# ベクトル化したものを表示\n",
    "pd.DataFrame(vec.toarray(), columns=vec_tfidf.get_feature_names())"
   ]
  }
 ],
 "metadata": {
  "kernelspec": {
   "display_name": "Python 3",
   "language": "python",
   "name": "python3"
  },
  "language_info": {
   "codemirror_mode": {
    "name": "ipython",
    "version": 3
   },
   "file_extension": ".py",
   "mimetype": "text/x-python",
   "name": "python",
   "nbconvert_exporter": "python",
   "pygments_lexer": "ipython3",
   "version": "3.7.6"
  },
  "toc": {
   "base_numbering": 1,
   "nav_menu": {},
   "number_sections": true,
   "sideBar": true,
   "skip_h1_title": false,
   "title_cell": "Table of Contents",
   "title_sidebar": "Contents",
   "toc_cell": false,
   "toc_position": {
    "height": "calc(100% - 180px)",
    "left": "10px",
    "top": "150px",
    "width": "164.988px"
   },
   "toc_section_display": true,
   "toc_window_display": false
  }
 },
 "nbformat": 4,
 "nbformat_minor": 4
}
