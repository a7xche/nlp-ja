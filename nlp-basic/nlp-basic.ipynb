{
 "cells": [
  {
   "cell_type": "markdown",
   "metadata": {},
   "source": [
    "## 自然言語処理 入門"
   ]
  },
  {
   "cell_type": "markdown",
   "metadata": {},
   "source": [
    "### 事前準備"
   ]
  },
  {
   "cell_type": "markdown",
   "metadata": {},
   "source": [
    "コマンドプロンプトを開き、以下のコマンドでMeCabをインストール（for Windows）\n",
    "\n",
    "pip install mecab\n",
    "\n",
    "※ MeCabについて: https://taku910.github.io/mecab/\n",
    "\n",
    "※インストール方法 参考サイト：https://qiita.com/yukinoi/items/990b6933d9f21ba0fb43"
   ]
  },
  {
   "cell_type": "markdown",
   "metadata": {},
   "source": [
    "### ライブラリのインポート"
   ]
  },
  {
   "cell_type": "code",
   "execution_count": 1,
   "metadata": {},
   "outputs": [],
   "source": [
    "# 日本語の文章を形態素解析できるライブラリをインポート\n",
    "import MeCab"
   ]
  },
  {
   "cell_type": "markdown",
   "metadata": {},
   "source": [
    "### 分かち書き"
   ]
  },
  {
   "cell_type": "code",
   "execution_count": 2,
   "metadata": {},
   "outputs": [
    {
     "name": "stdout",
     "output_type": "stream",
     "text": [
      "私 は データ サイエンティスト です \n",
      "\n"
     ]
    }
   ],
   "source": [
    "# 引数の -Owakati は、分かち書きをするための引数\n",
    "mecab = MeCab.Tagger(\"-Owakati\")\n",
    "\n",
    "# 分かち書きしたい文章を、引数として入力\n",
    "text = mecab.parse(\"私はデータサイエンティストです\")\n",
    "\n",
    "# 出力\n",
    "print(text)"
   ]
  },
  {
   "cell_type": "markdown",
   "metadata": {},
   "source": [
    "### 形態素解析"
   ]
  },
  {
   "cell_type": "code",
   "execution_count": 3,
   "metadata": {},
   "outputs": [
    {
     "name": "stdout",
     "output_type": "stream",
     "text": [
      "私\tワタシ\t私\t名詞-代名詞-一般\t\t\n",
      "は\tハ\tは\t助詞-係助詞\t\t\n",
      "データ\tデータ\tデータ\t名詞-一般\t\t\n",
      "サイエンティスト\tサイエンティスト\tサイエンティスト\t名詞-一般\t\t\n",
      "です\tデス\tです\t助動詞\t特殊・デス\t基本形\n",
      "EOS\n",
      "\n"
     ]
    }
   ],
   "source": [
    "# 引数の -Ochasen は、形態素解析をするための引数\n",
    "mecab = MeCab.Tagger(\"-Ochasen\")\n",
    "\n",
    "# 分かち書きしたい文章を、引数として入力\n",
    "text = mecab.parse(\"私はデータサイエンティストです\")\n",
    "\n",
    "# 出力\n",
    "print(text)"
   ]
  },
  {
   "cell_type": "code",
   "execution_count": 4,
   "metadata": {},
   "outputs": [
    {
     "name": "stdout",
     "output_type": "stream",
     "text": [
      "私\t名詞,代名詞,一般,*,*,*,私,ワタシ,ワタシ\n",
      "は\t助詞,係助詞,*,*,*,*,は,ハ,ワ\n",
      "データ\t名詞,一般,*,*,*,*,データ,データ,データ\n",
      "サイエンティスト\t名詞,一般,*,*,*,*,サイエンティスト,サイエンティスト,サイエンティスト\n",
      "です\t助動詞,*,*,*,特殊・デス,基本形,です,デス,デス\n",
      "EOS\n",
      "\n"
     ]
    }
   ],
   "source": [
    "# 引数を指定しなくても形態素解析ができる\n",
    "mecab = MeCab.Tagger()\n",
    "\n",
    "# 分かち書きしたい文章を、引数として入力\n",
    "text = mecab.parse(\"私はデータサイエンティストです\")\n",
    "\n",
    "# 出力\n",
    "print(text)"
   ]
  },
  {
   "cell_type": "markdown",
   "metadata": {},
   "source": [
    "### 単語の出現回数を調べる"
   ]
  },
  {
   "cell_type": "code",
   "execution_count": 5,
   "metadata": {},
   "outputs": [],
   "source": [
    "import MeCab\n",
    "\n",
    "# テキストファイルを開く\n",
    "# 中身は、夏目漱石の\"吾輩は猫である\"の一節（ちなみに、著作権が切れているので自由に使える）\n",
    "# 日本語はエンコーディングの指定をしないと読み込めない\n",
    "with open(\"neko-1.txt\", encoding=\"utf_8\") as f:\n",
    "    # ファイルの読込み\n",
    "    data = f.read()  "
   ]
  },
  {
   "cell_type": "code",
   "execution_count": 6,
   "metadata": {},
   "outputs": [
    {
     "data": {
      "text/plain": [
       "'吾輩は猫である。名前はまだ無い。どこで生れたかとんと見当がつかぬ。何でも薄暗いじめじめした所でニャーニャー泣いていた事だけは記憶している。吾輩はここで始めて人間というものを見た。しかもあとで聞くとそれは書生という人間中で一番獰悪な種族であったそうだ。この書生というのは時々我々を捕えて煮て食うという話である。しかしその当時は何という考もなかったから別段恐しいとも思わなかった。ただ彼の掌に載せられてスーと持ち上げられた時何だかフワフワした感じがあったばかりである。掌の上で少し落ちついて書生の顔を見たのがいわゆる人間というものの見始であろう。この時妙なものだと思った感じが今でも残っている。第一毛をもって装飾されべきはずの顔がつるつるしてまるで薬缶だ。その後猫にもだいぶ逢ったがこんな片輪には一度も出会わした事がない。のみならず顔の真中があまりに突起している。そうしてその穴の中から時々ぷうぷうと煙を吹く。どうも咽せぽくて実に弱った。これが人間の飲む煙草というものである事はようやくこの頃知った。'"
      ]
     },
     "execution_count": 6,
     "metadata": {},
     "output_type": "execute_result"
    }
   ],
   "source": [
    "# 読み込んだデータの確認\n",
    "data"
   ]
  },
  {
   "cell_type": "code",
   "execution_count": 7,
   "metadata": {},
   "outputs": [],
   "source": [
    "# 分かち書きした文章を用意\n",
    "mecab = MeCab.Tagger(\"-Owakati\")\n",
    "text = mecab.parse(data)"
   ]
  },
  {
   "cell_type": "code",
   "execution_count": 8,
   "metadata": {},
   "outputs": [],
   "source": [
    "# 格納するために空欄の辞書を作成\n",
    "words = {}\n",
    "\n",
    "# split()で分かち書きした文章から単語を取り出す\n",
    "for word in text.split():\n",
    "    # 単語をキーとして値に1を足していく。\n",
    "    # 辞書に単語がない、すなわち初めて辞書に登録するときは0+1になる。\n",
    "    words[word] = words.get(word, 0) + 1"
   ]
  },
  {
   "cell_type": "code",
   "execution_count": 9,
   "metadata": {},
   "outputs": [],
   "source": [
    "# リストに取り出して単語の出現回数でソート\n",
    "# vは出現回数、kは単語を指す\n",
    "d = [(v, k) for k, v in words.items()]\n",
    "\n",
    "# 出現回数が少ないものから多いものに並び替え\n",
    "d.sort()\n",
    "\n",
    "# 出現回数が多い順に並べる\n",
    "d.reverse()"
   ]
  },
  {
   "cell_type": "code",
   "execution_count": 10,
   "metadata": {},
   "outputs": [
    {
     "name": "stdout",
     "output_type": "stream",
     "text": [
      "17 。\n",
      "15 た\n",
      "12 で\n",
      "11 て\n",
      "10 の\n",
      "9 は\n",
      "9 が\n",
      "7 という\n",
      "6 し\n",
      "4 人間\n",
      "4 を\n",
      "4 もの\n",
      "4 ある\n",
      "3 顔\n",
      "3 見\n",
      "3 書生\n",
      "3 も\n",
      "3 に\n",
      "3 と\n",
      "3 だ\n",
      "3 この\n",
      "3 いる\n",
      "2 猫\n",
      "2 時々\n",
      "2 時\n",
      "2 掌\n",
      "2 感じ\n",
      "2 吾輩\n",
      "2 何\n",
      "2 事\n"
     ]
    }
   ],
   "source": [
    "# 単語出現回数が多い上位30個を出力\n",
    "for count, word in d[:30]:\n",
    "    print(count, word)"
   ]
  },
  {
   "cell_type": "markdown",
   "metadata": {},
   "source": [
    "### 出現した単語をベクトル化&単語の出現回数をカウント"
   ]
  },
  {
   "cell_type": "code",
   "execution_count": 11,
   "metadata": {},
   "outputs": [],
   "source": [
    "import MeCab\n",
    "import pandas as pd\n",
    "\n",
    "# データの読込み\n",
    "with open(\"neko-1.txt\", encoding=\"utf_8\") as f:\n",
    "    data = f.read()\n",
    "\n",
    "# 読み込んだデータの分かち書き\n",
    "mecab = MeCab.Tagger(\"-Owakati\")\n",
    "text = mecab.parse(data)"
   ]
  },
  {
   "cell_type": "code",
   "execution_count": 12,
   "metadata": {},
   "outputs": [],
   "source": [
    "import numpy as np\n",
    "# 単語をベクトル化するためのライブラリ\n",
    "from sklearn.feature_extraction.text import CountVectorizer\n",
    "\n",
    "# 関数を変数として定義する\n",
    "count = CountVectorizer()\n",
    "# array型に変換\n",
    "docs = np.array([text])\n",
    "# ベクトル化\n",
    "vec = count.fit_transform(docs)"
   ]
  },
  {
   "cell_type": "code",
   "execution_count": 13,
   "metadata": {},
   "outputs": [
    {
     "data": {
      "text/html": [
       "<div>\n",
       "<style scoped>\n",
       "    .dataframe tbody tr th:only-of-type {\n",
       "        vertical-align: middle;\n",
       "    }\n",
       "\n",
       "    .dataframe tbody tr th {\n",
       "        vertical-align: top;\n",
       "    }\n",
       "\n",
       "    .dataframe thead th {\n",
       "        text-align: right;\n",
       "    }\n",
       "</style>\n",
       "<table border=\"1\" class=\"dataframe\">\n",
       "  <thead>\n",
       "    <tr style=\"text-align: right;\">\n",
       "      <th></th>\n",
       "      <th>あっ</th>\n",
       "      <th>あと</th>\n",
       "      <th>あまりに</th>\n",
       "      <th>ある</th>\n",
       "      <th>あろ</th>\n",
       "      <th>いた事</th>\n",
       "      <th>いとも</th>\n",
       "      <th>いる</th>\n",
       "      <th>いわゆる</th>\n",
       "      <th>から</th>\n",
       "      <th>...</th>\n",
       "      <th>落ちつい</th>\n",
       "      <th>薄暗い</th>\n",
       "      <th>薬缶</th>\n",
       "      <th>装飾</th>\n",
       "      <th>見当</th>\n",
       "      <th>記憶</th>\n",
       "      <th>載せ</th>\n",
       "      <th>逢っ</th>\n",
       "      <th>食う</th>\n",
       "      <th>飲む</th>\n",
       "    </tr>\n",
       "  </thead>\n",
       "  <tbody>\n",
       "    <tr>\n",
       "      <th>0</th>\n",
       "      <td>2</td>\n",
       "      <td>1</td>\n",
       "      <td>1</td>\n",
       "      <td>4</td>\n",
       "      <td>1</td>\n",
       "      <td>1</td>\n",
       "      <td>1</td>\n",
       "      <td>3</td>\n",
       "      <td>1</td>\n",
       "      <td>2</td>\n",
       "      <td>...</td>\n",
       "      <td>1</td>\n",
       "      <td>1</td>\n",
       "      <td>1</td>\n",
       "      <td>1</td>\n",
       "      <td>1</td>\n",
       "      <td>1</td>\n",
       "      <td>1</td>\n",
       "      <td>1</td>\n",
       "      <td>1</td>\n",
       "      <td>1</td>\n",
       "    </tr>\n",
       "  </tbody>\n",
       "</table>\n",
       "<p>1 rows × 93 columns</p>\n",
       "</div>"
      ],
      "text/plain": [
       "   あっ  あと  あまりに  ある  あろ  いた事  いとも  いる  いわゆる  から  ...  落ちつい  薄暗い  薬缶  装飾  見当  \\\n",
       "0   2   1     1   4   1    1    1   3     1   2  ...     1    1   1   1   1   \n",
       "\n",
       "   記憶  載せ  逢っ  食う  飲む  \n",
       "0   1   1   1   1   1  \n",
       "\n",
       "[1 rows x 93 columns]"
      ]
     },
     "execution_count": 13,
     "metadata": {},
     "output_type": "execute_result"
    }
   ],
   "source": [
    "# 単語の出現回数をカウント\n",
    "pd.DataFrame(vec.toarray(), columns=count.get_feature_names())"
   ]
  },
  {
   "cell_type": "markdown",
   "metadata": {},
   "source": [
    "### TF-IDF"
   ]
  },
  {
   "cell_type": "code",
   "execution_count": 14,
   "metadata": {},
   "outputs": [],
   "source": [
    "import MeCab\n",
    "from sklearn.feature_extraction.text import TfidfVectorizer\n",
    "\n",
    "# データの読込み\n",
    "with open(\"neko-1.txt\", encoding=\"utf_8\") as f:\n",
    "    data = f.read()\n",
    "\n",
    "# 読み込んだデータの分かち書き\n",
    "mecab = MeCab.Tagger(\"-Owakati\")\n",
    "text = mecab.parse(data)\n",
    "\n",
    "# 関数を変数として定義する\n",
    "vec_tfidf = TfidfVectorizer()\n",
    "# ベクトル化する文字列\n",
    "doc = np.array([text])\n",
    "# ベクトル化\n",
    "vec = vec_tfidf.fit_transform(doc)"
   ]
  },
  {
   "cell_type": "code",
   "execution_count": 15,
   "metadata": {},
   "outputs": [
    {
     "name": "stdout",
     "output_type": "stream",
     "text": [
      "Vocabulary size: 93\n"
     ]
    }
   ],
   "source": [
    "# 単語数\n",
    "print('Vocabulary size: {}'.format(len(vec_tfidf.vocabulary_)))"
   ]
  },
  {
   "cell_type": "code",
   "execution_count": 16,
   "metadata": {},
   "outputs": [
    {
     "data": {
      "text/html": [
       "<div>\n",
       "<style scoped>\n",
       "    .dataframe tbody tr th:only-of-type {\n",
       "        vertical-align: middle;\n",
       "    }\n",
       "\n",
       "    .dataframe tbody tr th {\n",
       "        vertical-align: top;\n",
       "    }\n",
       "\n",
       "    .dataframe thead th {\n",
       "        text-align: right;\n",
       "    }\n",
       "</style>\n",
       "<table border=\"1\" class=\"dataframe\">\n",
       "  <thead>\n",
       "    <tr style=\"text-align: right;\">\n",
       "      <th></th>\n",
       "      <th>あっ</th>\n",
       "      <th>あと</th>\n",
       "      <th>あまりに</th>\n",
       "      <th>ある</th>\n",
       "      <th>あろ</th>\n",
       "      <th>いた事</th>\n",
       "      <th>いとも</th>\n",
       "      <th>いる</th>\n",
       "      <th>いわゆる</th>\n",
       "      <th>から</th>\n",
       "      <th>...</th>\n",
       "      <th>落ちつい</th>\n",
       "      <th>薄暗い</th>\n",
       "      <th>薬缶</th>\n",
       "      <th>装飾</th>\n",
       "      <th>見当</th>\n",
       "      <th>記憶</th>\n",
       "      <th>載せ</th>\n",
       "      <th>逢っ</th>\n",
       "      <th>食う</th>\n",
       "      <th>飲む</th>\n",
       "    </tr>\n",
       "  </thead>\n",
       "  <tbody>\n",
       "    <tr>\n",
       "      <th>0</th>\n",
       "      <td>0.129914</td>\n",
       "      <td>0.064957</td>\n",
       "      <td>0.064957</td>\n",
       "      <td>0.259828</td>\n",
       "      <td>0.064957</td>\n",
       "      <td>0.064957</td>\n",
       "      <td>0.064957</td>\n",
       "      <td>0.194871</td>\n",
       "      <td>0.064957</td>\n",
       "      <td>0.129914</td>\n",
       "      <td>...</td>\n",
       "      <td>0.064957</td>\n",
       "      <td>0.064957</td>\n",
       "      <td>0.064957</td>\n",
       "      <td>0.064957</td>\n",
       "      <td>0.064957</td>\n",
       "      <td>0.064957</td>\n",
       "      <td>0.064957</td>\n",
       "      <td>0.064957</td>\n",
       "      <td>0.064957</td>\n",
       "      <td>0.064957</td>\n",
       "    </tr>\n",
       "  </tbody>\n",
       "</table>\n",
       "<p>1 rows × 93 columns</p>\n",
       "</div>"
      ],
      "text/plain": [
       "         あっ        あと      あまりに        ある        あろ       いた事       いとも  \\\n",
       "0  0.129914  0.064957  0.064957  0.259828  0.064957  0.064957  0.064957   \n",
       "\n",
       "         いる      いわゆる        から  ...      落ちつい       薄暗い        薬缶        装飾  \\\n",
       "0  0.194871  0.064957  0.129914  ...  0.064957  0.064957  0.064957  0.064957   \n",
       "\n",
       "         見当        記憶        載せ        逢っ        食う        飲む  \n",
       "0  0.064957  0.064957  0.064957  0.064957  0.064957  0.064957  \n",
       "\n",
       "[1 rows x 93 columns]"
      ]
     },
     "execution_count": 16,
     "metadata": {},
     "output_type": "execute_result"
    }
   ],
   "source": [
    "import pandas as pd\n",
    "\n",
    "# ベクトル化したものを表示\n",
    "pd.DataFrame(vec.toarray(), columns=vec_tfidf.get_feature_names())"
   ]
  },
  {
   "cell_type": "code",
   "execution_count": null,
   "metadata": {},
   "outputs": [],
   "source": []
  }
 ],
 "metadata": {
  "kernelspec": {
   "display_name": "Python 3",
   "language": "python",
   "name": "python3"
  },
  "language_info": {
   "codemirror_mode": {
    "name": "ipython",
    "version": 3
   },
   "file_extension": ".py",
   "mimetype": "text/x-python",
   "name": "python",
   "nbconvert_exporter": "python",
   "pygments_lexer": "ipython3",
   "version": "3.7.6"
  },
  "toc": {
   "base_numbering": 1,
   "nav_menu": {},
   "number_sections": true,
   "sideBar": true,
   "skip_h1_title": false,
   "title_cell": "Table of Contents",
   "title_sidebar": "Contents",
   "toc_cell": false,
   "toc_position": {
    "height": "calc(100% - 180px)",
    "left": "10px",
    "top": "150px",
    "width": "164.988px"
   },
   "toc_section_display": true,
   "toc_window_display": false
  }
 },
 "nbformat": 4,
 "nbformat_minor": 4
}
